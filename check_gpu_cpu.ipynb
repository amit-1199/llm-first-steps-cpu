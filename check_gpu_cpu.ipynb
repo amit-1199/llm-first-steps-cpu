{
  "nbformat": 4,
  "nbformat_minor": 0,
  "metadata": {
    "colab": {
      "provenance": [],
      "authorship_tag": "ABX9TyNLR3eGLUnrg7svy+LijyJP",
      "include_colab_link": true
    },
    "kernelspec": {
      "name": "python3",
      "display_name": "Python 3"
    },
    "language_info": {
      "name": "python"
    }
  },
  "cells": [
    {
      "cell_type": "markdown",
      "metadata": {
        "id": "view-in-github",
        "colab_type": "text"
      },
      "source": [
        "<a href=\"https://colab.research.google.com/github/amit-1199/llm-first-steps-cpu/blob/main/check_gpu_cpu.ipynb\" target=\"_parent\"><img src=\"https://colab.research.google.com/assets/colab-badge.svg\" alt=\"Open In Colab\"/></a>"
      ]
    },
    {
      "cell_type": "code",
      "execution_count": 1,
      "metadata": {
        "colab": {
          "base_uri": "https://localhost:8080/"
        },
        "id": "U_qiiMlyvdNw",
        "outputId": "9b5cfc6e-ac0c-46f8-fed4-f41da141bcc0"
      },
      "outputs": [
        {
          "output_type": "stream",
          "name": "stdout",
          "text": [
            "CUDA available? False\n"
          ]
        }
      ],
      "source": [
        "import torch\n",
        "\n",
        "# Check if CUDA is available (meaning a GPU is available for use with PyTorch)\n",
        "print(\"CUDA available?\", torch.cuda.is_available())\n",
        "\n",
        "# If CUDA is available, print information about the GPU\n",
        "if torch.cuda.is_available():\n",
        "    # Get and print the name of the GPU\n",
        "    print(\"GPU name:\", torch.cuda.get_device_name(0))\n",
        "    # Get and print the total VRAM (GPU memory) in gigabytes\n",
        "    print(\"VRAM (GB):\", round(torch.cuda.get_device_properties(0).total_memory / 1e9, 2))"
      ]
    }
  ]
}